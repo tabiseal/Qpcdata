{
 "cells": [
  {
   "cell_type": "code",
   "execution_count": 1,
   "id": "3d7b2187",
   "metadata": {},
   "outputs": [
    {
     "name": "stdout",
     "output_type": "stream",
     "text": [
      " SCF Done:  E(RB3LYP) =  -113.309453139     A.U. after    6 cycles\n",
      "\n"
     ]
    }
   ],
   "source": [
    "contentCO=open(\"C:\\Calculation\\DFT,opt=tight 6-31G(d,p)\\DFT,opt=tight 6-31G(d,p)CO\\DFT,opt=tight 6-31G(d,p)CO.out\",\"r\");\n",
    "last_line=None;\n",
    "for line in contentCO:\n",
    "    if \"SCF Done\" in line:\n",
    "        last_line=line;\n",
    "print(last_line);\n",
    "contentCO.close();"
   ]
  },
  {
   "cell_type": "code",
   "execution_count": 13,
   "id": "42124312",
   "metadata": {},
   "outputs": [
    {
     "name": "stdout",
     "output_type": "stream",
     "text": [
      " SCF Done:  E(RB3LYP) =  -76.4197373997     A.U. after    7 cycles\n",
      "\n"
     ]
    }
   ],
   "source": [
    "contentH2O=open(\"C:\\Calculation\\DFT,opt=tight 6-31G(d,p)\\DFT,opt=tight 6-31G(d,p)H2O\\DFT,opt=tight 6-31G(d,p)H2O.out\",\"r\");\n",
    "last_line=None;\n",
    "for line in contentH2O:\n",
    "    if \"SCF Done\" in line:\n",
    "        last_line=line;\n",
    "print(last_line);\n",
    "contentH2O.close();"
   ]
  },
  {
   "cell_type": "markdown",
   "id": "761c0c4c",
   "metadata": {},
   "source": [
    "# total energy of $H_2O$and$CO_2$"
   ]
  },
  {
   "cell_type": "code",
   "execution_count": 14,
   "id": "f97e021a",
   "metadata": {},
   "outputs": [
    {
     "name": "stdout",
     "output_type": "stream",
     "text": [
      "-189.72919053869998\n"
     ]
    }
   ],
   "source": [
    "E_tot=-76.4197373997+-113.309453139\n",
    "print(E_tot);"
   ]
  },
  {
   "cell_type": "code",
   "execution_count": null,
   "id": "09f1dd29",
   "metadata": {},
   "outputs": [],
   "source": []
  },
  {
   "cell_type": "code",
   "execution_count": 4,
   "id": "4d1eb46c",
   "metadata": {},
   "outputs": [
    {
     "name": "stdout",
     "output_type": "stream",
     "text": [
      " SCF Done:  E(RB3LYP) =  -189.733271134     A.U. after    7 cycles\n",
      "\n"
     ]
    }
   ],
   "source": [
    "contentCOH2O1=open(\"C:\\Calculation\\DFT,opt=tight 6-31G(d,p)\\DFT,opt=tight 6-31G(d,p)CO(1)H2O(1)\\DFT,opt=tight 6-31G(d,p)CO(1)H2O(1)1.out\",\"r\");\n",
    "last_line=None;\n",
    "for line in contentCOH2O1:\n",
    "    if \"SCF Done\" in line:\n",
    "        last_line=line;\n",
    "print(last_line);\n",
    "contentCOH2O1.close();"
   ]
  },
  {
   "cell_type": "markdown",
   "id": "52015c28",
   "metadata": {},
   "source": [
    "## bonding energy1"
   ]
  },
  {
   "cell_type": "code",
   "execution_count": 28,
   "id": "a1b8e279",
   "metadata": {},
   "outputs": [
    {
     "name": "stdout",
     "output_type": "stream",
     "text": [
      "2.560610276123055 kcal/mol\n"
     ]
    }
   ],
   "source": [
    "E_COH2O1=E_tot--189.733271134\n",
    "print(E_COH2O1*627.509,\"kcal/mol\");"
   ]
  },
  {
   "cell_type": "code",
   "execution_count": null,
   "id": "80991b61",
   "metadata": {},
   "outputs": [],
   "source": []
  },
  {
   "cell_type": "code",
   "execution_count": 5,
   "id": "8e343e38",
   "metadata": {},
   "outputs": [
    {
     "name": "stdout",
     "output_type": "stream",
     "text": [
      " SCF Done:  E(RB3LYP) =  -189.731392358     A.U. after    9 cycles\n",
      "\n"
     ]
    }
   ],
   "source": [
    "contentCOH2O2=open(\"C:\\Calculation\\DFT,opt=tight 6-31G(d,p)\\DFT,opt=tight 6-31G(d,p)CO(1)H2O(1)\\DFT,opt=tight 6-31G(d,p)CO(1)H2O(1)2.out\",\"r\");\n",
    "last_line=None;\n",
    "for line in contentCOH2O2:\n",
    "    if \"SCF Done\" in line:\n",
    "        last_line=line;\n",
    "print(last_line);\n",
    "contentCOH2O2.close();"
   ]
  },
  {
   "cell_type": "markdown",
   "id": "a7be2dac",
   "metadata": {},
   "source": [
    "## bonding energy2"
   ]
  },
  {
   "cell_type": "code",
   "execution_count": 29,
   "id": "4a177400",
   "metadata": {},
   "outputs": [
    {
     "name": "stdout",
     "output_type": "stream",
     "text": [
      "1.3816614271313403 kcal/mol\n"
     ]
    }
   ],
   "source": [
    "E_COH2O2=E_tot+189.731392358\n",
    "print(E_COH2O2*627.509,\"kcal/mol\");"
   ]
  },
  {
   "cell_type": "code",
   "execution_count": null,
   "id": "5df1ee03",
   "metadata": {},
   "outputs": [],
   "source": []
  },
  {
   "cell_type": "code",
   "execution_count": 6,
   "id": "cadd1cc9",
   "metadata": {},
   "outputs": [
    {
     "name": "stdout",
     "output_type": "stream",
     "text": [
      " SCF Done:  E(RB3LYP) =  -189.733376058     A.U. after    8 cycles\n",
      "\n"
     ]
    }
   ],
   "source": [
    "contentCOH2O3=open(\"C:\\Calculation\\DFT,opt=tight 6-31G(d,p)\\DFT,opt=tight 6-31G(d,p)CO(1)H2O(1)\\DFT,opt=tight 6-31G(d,p)CO(1)H2O(1)3.out\",\"r\");\n",
    "last_line=None;\n",
    "for line in contentCOH2O3:\n",
    "    if \"SCF Done\" in line:\n",
    "        last_line=line;\n",
    "print(last_line);\n",
    "contentCOH2O3.close();"
   ]
  },
  {
   "cell_type": "markdown",
   "id": "641644b3",
   "metadata": {},
   "source": [
    "## bonding energy3"
   ]
  },
  {
   "cell_type": "code",
   "execution_count": 30,
   "id": "8cdb5859",
   "metadata": {},
   "outputs": [
    {
     "name": "stdout",
     "output_type": "stream",
     "text": [
      "2.6264510304381883 kcal/mol\n"
     ]
    }
   ],
   "source": [
    "E_COH2O3=E_tot+189.733376058\n",
    "print(E_COH2O3*627.509,\"kcal/mol\");"
   ]
  },
  {
   "cell_type": "code",
   "execution_count": null,
   "id": "607ec4c7",
   "metadata": {},
   "outputs": [],
   "source": []
  },
  {
   "cell_type": "code",
   "execution_count": 7,
   "id": "0a24a82e",
   "metadata": {},
   "outputs": [
    {
     "name": "stdout",
     "output_type": "stream",
     "text": [
      " SCF Done:  E(RB3LYP) =  -189.733271116     A.U. after    6 cycles\n",
      "\n"
     ]
    }
   ],
   "source": [
    "contentCOH2O4=open(\"C:\\Calculation\\DFT,opt=tight 6-31G(d,p)\\DFT,opt=tight 6-31G(d,p)CO(1)H2O(1)\\DFT,opt=tight 6-31G(d,p)CO(1)H2O(1)4.out\",\"r\");\n",
    "last_line=None;\n",
    "for line in contentCOH2O4:\n",
    "    if \"SCF Done\" in line:\n",
    "        last_line=line;\n",
    "print(last_line);\n",
    "contentCOH2O4.close();"
   ]
  },
  {
   "cell_type": "markdown",
   "id": "6659395c",
   "metadata": {},
   "source": [
    "## bonding energy4"
   ]
  },
  {
   "cell_type": "code",
   "execution_count": 31,
   "id": "59e3fadf",
   "metadata": {},
   "outputs": [
    {
     "name": "stdout",
     "output_type": "stream",
     "text": [
      "2.5605989809556617 kcal/mol\n"
     ]
    }
   ],
   "source": [
    "E_COH2O4=E_tot+189.733271116\n",
    "print(E_COH2O4*627.509,\"kcal/mol\");"
   ]
  },
  {
   "cell_type": "code",
   "execution_count": null,
   "id": "4543778c",
   "metadata": {},
   "outputs": [],
   "source": []
  },
  {
   "cell_type": "code",
   "execution_count": 8,
   "id": "4aadda82",
   "metadata": {},
   "outputs": [
    {
     "name": "stdout",
     "output_type": "stream",
     "text": [
      " SCF Done:  E(UB3LYP) =  -113.809998491     A.U. after    9 cycles\n",
      "\n"
     ]
    }
   ],
   "source": [
    "contentCOH1=open(\"C:\\Calculation\\DFT,opt=tight 6-31G(d,p)\\DFT,opt=tight 6-31G(d,p)CO(1)H(1)\\DFT,opt=tight 6-31G(d,p)CO(1)H(1)1.out\",\"r\");\n",
    "last_line=None;\n",
    "for line in contentCOH1:\n",
    "    if \"SCF Done\" in line:\n",
    "        last_line=line;\n",
    "print(last_line)\n",
    "contentCOH1.close();"
   ]
  },
  {
   "cell_type": "markdown",
   "id": "c2ca69af",
   "metadata": {},
   "source": [
    "# opt energy1"
   ]
  },
  {
   "cell_type": "code",
   "execution_count": 32,
   "id": "4e52b45b",
   "metadata": {},
   "outputs": [
    {
     "name": "stdout",
     "output_type": "stream",
     "text": [
      "-75.91919204769998\n"
     ]
    }
   ],
   "source": [
    "E_COH1=E_tot+113.809998491\n",
    "print(E_COH1)"
   ]
  },
  {
   "cell_type": "code",
   "execution_count": null,
   "id": "f6a95d33",
   "metadata": {},
   "outputs": [],
   "source": []
  },
  {
   "cell_type": "code",
   "execution_count": 9,
   "id": "b696a097",
   "metadata": {},
   "outputs": [
    {
     "name": "stdout",
     "output_type": "stream",
     "text": [
      " SCF Done:  E(UB3LYP) =  -113.809838116     A.U. after    6 cycles\n",
      "\n"
     ]
    }
   ],
   "source": [
    "contentCOH2=open(\"C:\\Calculation\\DFT,opt=tight 6-31G(d,p)\\DFT,opt=tight 6-31G(d,p)CO(1)H(1)\\DFT,opt=tight 6-31G(d,p)CO(1)H(1)2.out\",\"r\");\n",
    "last_line=None;\n",
    "for line in contentCOH2:\n",
    "    if \"SCF Done\" in line:\n",
    "        last_line=line;\n",
    "print(last_line)\n",
    "contentCOH2.close();"
   ]
  },
  {
   "cell_type": "markdown",
   "id": "0d31a6b6",
   "metadata": {},
   "source": [
    "# opt energy2"
   ]
  },
  {
   "cell_type": "code",
   "execution_count": 33,
   "id": "5f43c302",
   "metadata": {},
   "outputs": [
    {
     "name": "stdout",
     "output_type": "stream",
     "text": [
      "-75.91935242269999\n"
     ]
    }
   ],
   "source": [
    "E_COH2=E_tot+113.809838116\n",
    "print(E_COH2)"
   ]
  },
  {
   "cell_type": "code",
   "execution_count": null,
   "id": "0e5f0819",
   "metadata": {},
   "outputs": [],
   "source": []
  },
  {
   "cell_type": "code",
   "execution_count": 10,
   "id": "efc93e02",
   "metadata": {},
   "outputs": [
    {
     "name": "stdout",
     "output_type": "stream",
     "text": [
      " SCF Done:  E(UB3LYP) =  -113.809809188     A.U. after    6 cycles\n",
      "\n"
     ]
    }
   ],
   "source": [
    "contentCOH3=open(\"C:\\Calculation\\DFT,opt=tight 6-31G(d,p)\\DFT,opt=tight 6-31G(d,p)CO(1)H(1)\\DFT,opt=tight 6-31G(d,p)CO(1)H(1)3.out\",\"r\");\n",
    "last_line=None;\n",
    "for line in contentCOH3:\n",
    "    if \"SCF Done\" in line:\n",
    "        last_line=line;\n",
    "print(last_line)\n",
    "contentCOH3.close();"
   ]
  },
  {
   "cell_type": "markdown",
   "id": "54414436",
   "metadata": {},
   "source": [
    "# opt energy3"
   ]
  },
  {
   "cell_type": "code",
   "execution_count": 35,
   "id": "28d8486e",
   "metadata": {},
   "outputs": [
    {
     "name": "stdout",
     "output_type": "stream",
     "text": [
      "-75.91938135069998\n"
     ]
    }
   ],
   "source": [
    "E_COH3=E_tot+113.809809188\n",
    "print(E_COH3)"
   ]
  },
  {
   "cell_type": "code",
   "execution_count": null,
   "id": "5d64ecfb",
   "metadata": {},
   "outputs": [],
   "source": []
  },
  {
   "cell_type": "code",
   "execution_count": 11,
   "id": "2b6c1428",
   "metadata": {
    "scrolled": true
   },
   "outputs": [
    {
     "name": "stdout",
     "output_type": "stream",
     "text": [
      " SCF Done:  E(UB3LYP) =  -113.788813314     A.U. after   12 cycles\n",
      "\n"
     ]
    }
   ],
   "source": [
    "contentQSTCOH1=open(\"C:\\Calculation\\DFT,opt=tight 6-31G(d,p)\\DFT,opt=tight 6-31G(d,p)QST2CO(1)H(1)\\DFT,opt=tight 6-31G(d,p)QST2CO(1)H(1)1.out\",\"r\");\n",
    "last_line=None;\n",
    "for line in contentQSTCOH1:\n",
    "    if \"SCF Done\" in line:\n",
    "        last_line=line;\n",
    "print(last_line);\n",
    "contentQSTCOH1.close();"
   ]
  },
  {
   "cell_type": "markdown",
   "id": "3e5ecd61",
   "metadata": {},
   "source": [
    "# QST2 energy1"
   ]
  },
  {
   "cell_type": "code",
   "execution_count": 37,
   "id": "1755514d",
   "metadata": {},
   "outputs": [
    {
     "name": "stdout",
     "output_type": "stream",
     "text": [
      "13.29388923409718 kcal/mol\n"
     ]
    }
   ],
   "source": [
    "E_qstCOH1=-113.788813314+113.809998491\n",
    "print(E_qstCOH1*627.509,\"kcal/mol\")"
   ]
  },
  {
   "cell_type": "code",
   "execution_count": null,
   "id": "8a77fbf0",
   "metadata": {},
   "outputs": [],
   "source": []
  },
  {
   "cell_type": "code",
   "execution_count": 12,
   "id": "0a7893aa",
   "metadata": {},
   "outputs": [
    {
     "name": "stdout",
     "output_type": "stream",
     "text": [
      " SCF Done:  E(UB3LYP) =  -113.772927055     A.U. after   10 cycles\n",
      "\n"
     ]
    }
   ],
   "source": [
    "contentQSTCOH3=open(\"C:\\Calculation\\DFT,opt=tight 6-31G(d,p)\\DFT,opt=tight 6-31G(d,p)QST2CO(1)H(1)\\DFT,opt=tight 6-31G(d,p)QST2CO(1)H(1)3.out\",\"r\");\n",
    "last_line=None;\n",
    "for line in contentQSTCOH3:\n",
    "    if \"SCF Done\" in line:\n",
    "        last_line=line;\n",
    "print(last_line);\n",
    "contentQSTCOH3.close();"
   ]
  },
  {
   "cell_type": "markdown",
   "id": "41d821d0",
   "metadata": {},
   "source": [
    "# QST energy3"
   ]
  },
  {
   "cell_type": "code",
   "execution_count": 38,
   "id": "563bef75",
   "metadata": {},
   "outputs": [
    {
     "name": "stdout",
     "output_type": "stream",
     "text": [
      "23.143870396700752 kcal/mol\n"
     ]
    }
   ],
   "source": [
    "E_qstCOH3=-113.772927055+113.809809188\n",
    "print(E_qstCOH3*627.509,\"kcal/mol\")"
   ]
  },
  {
   "cell_type": "code",
   "execution_count": null,
   "id": "42aa32a6",
   "metadata": {},
   "outputs": [],
   "source": []
  },
  {
   "cell_type": "code",
   "execution_count": null,
   "id": "fa211e86",
   "metadata": {},
   "outputs": [],
   "source": []
  },
  {
   "cell_type": "code",
   "execution_count": null,
   "id": "90f26521",
   "metadata": {},
   "outputs": [],
   "source": []
  },
  {
   "cell_type": "code",
   "execution_count": null,
   "id": "f38da4b4",
   "metadata": {},
   "outputs": [],
   "source": []
  },
  {
   "cell_type": "code",
   "execution_count": null,
   "id": "5ff81118",
   "metadata": {},
   "outputs": [],
   "source": []
  },
  {
   "cell_type": "code",
   "execution_count": null,
   "id": "f60c4bdc",
   "metadata": {},
   "outputs": [],
   "source": []
  },
  {
   "cell_type": "code",
   "execution_count": null,
   "id": "ce79062c",
   "metadata": {},
   "outputs": [],
   "source": []
  },
  {
   "cell_type": "code",
   "execution_count": null,
   "id": "3cd0fbee",
   "metadata": {},
   "outputs": [],
   "source": []
  },
  {
   "cell_type": "code",
   "execution_count": null,
   "id": "18814d7c",
   "metadata": {},
   "outputs": [],
   "source": []
  },
  {
   "cell_type": "code",
   "execution_count": null,
   "id": "abdf9743",
   "metadata": {},
   "outputs": [],
   "source": []
  }
 ],
 "metadata": {
  "kernelspec": {
   "display_name": "Python 3 (ipykernel)",
   "language": "python",
   "name": "python3"
  },
  "language_info": {
   "codemirror_mode": {
    "name": "ipython",
    "version": 3
   },
   "file_extension": ".py",
   "mimetype": "text/x-python",
   "name": "python",
   "nbconvert_exporter": "python",
   "pygments_lexer": "ipython3",
   "version": "3.10.9"
  }
 },
 "nbformat": 4,
 "nbformat_minor": 5
}
