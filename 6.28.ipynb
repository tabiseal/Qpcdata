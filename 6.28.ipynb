{
 "cells": [
  {
   "cell_type": "code",
   "execution_count": 1,
   "id": "fe65d24e",
   "metadata": {},
   "outputs": [
    {
     "name": "stdout",
     "output_type": "stream",
     "text": [
      " SCF Done:  E(RB3LYP) =  -113.309453139     A.U. after    6 cycles\n",
      "\n"
     ]
    }
   ],
   "source": [
    "contentCO=open(\"C:\\Calculation\\DFT,opt=tight 6-31G(d,p)\\DFT,opt=tight 6-31G(d,p)CO\\DFT,opt=tight 6-31G(d,p)CO.out\",\"r\");\n",
    "last_line=None;\n",
    "for line in contentCO:\n",
    "    if \"SCF Done\" in line:\n",
    "        last_line=line;\n",
    "print(last_line);\n",
    "contentCO.close();"
   ]
  },
  {
   "cell_type": "code",
   "execution_count": 13,
   "id": "90c45083",
   "metadata": {},
   "outputs": [
    {
     "name": "stdout",
     "output_type": "stream",
     "text": [
      " SCF Done:  E(RB3LYP) =  -76.4197373997     A.U. after    7 cycles\n",
      "\n"
     ]
    }
   ],
   "source": [
    "contentH2O=open(\"C:\\Calculation\\DFT,opt=tight 6-31G(d,p)\\DFT,opt=tight 6-31G(d,p)H2O\\DFT,opt=tight 6-31G(d,p)H2O.out\",\"r\");\n",
    "last_line=None;\n",
    "for line in contentH2O:\n",
    "    if \"SCF Done\" in line:\n",
    "        last_line=line;\n",
    "print(last_line);\n",
    "contentH2O.close();"
   ]
  },
  {
   "cell_type": "markdown",
   "id": "0abb78d1",
   "metadata": {},
   "source": [
    "# total energy of $H_2O$and$CO_2$"
   ]
  },
  {
   "cell_type": "code",
   "execution_count": 14,
   "id": "b7423b4a",
   "metadata": {},
   "outputs": [
    {
     "name": "stdout",
     "output_type": "stream",
     "text": [
      "-189.72919053869998\n"
     ]
    }
   ],
   "source": [
    "E_tot=-76.4197373997+-113.309453139\n",
    "print(E_tot);"
   ]
  },
  {
   "cell_type": "code",
   "execution_count": null,
   "id": "dae34fba",
   "metadata": {},
   "outputs": [],
   "source": []
  },
  {
   "cell_type": "code",
   "execution_count": 4,
   "id": "8bc98814",
   "metadata": {},
   "outputs": [
    {
     "name": "stdout",
     "output_type": "stream",
     "text": [
      " SCF Done:  E(RB3LYP) =  -189.733271134     A.U. after    7 cycles\n",
      "\n"
     ]
    }
   ],
   "source": [
    "contentCOH2O1=open(\"C:\\Calculation\\DFT,opt=tight 6-31G(d,p)\\DFT,opt=tight 6-31G(d,p)CO(1)H2O(1)\\DFT,opt=tight 6-31G(d,p)CO(1)H2O(1)1.out\",\"r\");\n",
    "last_line=None;\n",
    "for line in contentCOH2O1:\n",
    "    if \"SCF Done\" in line:\n",
    "        last_line=line;\n",
    "print(last_line);\n",
    "contentCOH2O1.close();"
   ]
  },
  {
   "cell_type": "markdown",
   "id": "d2974fcb",
   "metadata": {},
   "source": [
    "## bonding energy1"
   ]
  },
  {
   "cell_type": "code",
   "execution_count": 28,
   "id": "fe29a107",
   "metadata": {},
   "outputs": [
    {
     "name": "stdout",
     "output_type": "stream",
     "text": [
      "2.560610276123055 kcal/mol\n"
     ]
    }
   ],
   "source": [
    "E_COH2O1=E_tot--189.733271134\n",
    "print(E_COH2O1*627.509,\"kcal/mol\");"
   ]
  },
  {
   "cell_type": "code",
   "execution_count": null,
   "id": "f8130ecf",
   "metadata": {},
   "outputs": [],
   "source": []
  },
  {
   "cell_type": "code",
   "execution_count": 5,
   "id": "413ab941",
   "metadata": {},
   "outputs": [
    {
     "name": "stdout",
     "output_type": "stream",
     "text": [
      " SCF Done:  E(RB3LYP) =  -189.731392358     A.U. after    9 cycles\n",
      "\n"
     ]
    }
   ],
   "source": [
    "contentCOH2O2=open(\"C:\\Calculation\\DFT,opt=tight 6-31G(d,p)\\DFT,opt=tight 6-31G(d,p)CO(1)H2O(1)\\DFT,opt=tight 6-31G(d,p)CO(1)H2O(1)2.out\",\"r\");\n",
    "last_line=None;\n",
    "for line in contentCOH2O2:\n",
    "    if \"SCF Done\" in line:\n",
    "        last_line=line;\n",
    "print(last_line);\n",
    "contentCOH2O2.close();"
   ]
  },
  {
   "cell_type": "markdown",
   "id": "70b472ae",
   "metadata": {},
   "source": [
    "## bonding energy2"
   ]
  },
  {
   "cell_type": "code",
   "execution_count": 29,
   "id": "0b072cb3",
   "metadata": {},
   "outputs": [
    {
     "name": "stdout",
     "output_type": "stream",
     "text": [
      "1.3816614271313403 kcal/mol\n"
     ]
    }
   ],
   "source": [
    "E_COH2O2=E_tot+189.731392358\n",
    "print(E_COH2O2*627.509,\"kcal/mol\");"
   ]
  },
  {
   "cell_type": "code",
   "execution_count": null,
   "id": "7d8dfc00",
   "metadata": {},
   "outputs": [],
   "source": []
  },
  {
   "cell_type": "code",
   "execution_count": 6,
   "id": "5abccc5a",
   "metadata": {},
   "outputs": [
    {
     "name": "stdout",
     "output_type": "stream",
     "text": [
      " SCF Done:  E(RB3LYP) =  -189.733376058     A.U. after    8 cycles\n",
      "\n"
     ]
    }
   ],
   "source": [
    "contentCOH2O3=open(\"C:\\Calculation\\DFT,opt=tight 6-31G(d,p)\\DFT,opt=tight 6-31G(d,p)CO(1)H2O(1)\\DFT,opt=tight 6-31G(d,p)CO(1)H2O(1)3.out\",\"r\");\n",
    "last_line=None;\n",
    "for line in contentCOH2O3:\n",
    "    if \"SCF Done\" in line:\n",
    "        last_line=line;\n",
    "print(last_line);\n",
    "contentCOH2O3.close();"
   ]
  },
  {
   "cell_type": "markdown",
   "id": "fc345f77",
   "metadata": {},
   "source": [
    "## bonding energy3"
   ]
  },
  {
   "cell_type": "code",
   "execution_count": 30,
   "id": "0bae4c86",
   "metadata": {},
   "outputs": [
    {
     "name": "stdout",
     "output_type": "stream",
     "text": [
      "2.6264510304381883 kcal/mol\n"
     ]
    }
   ],
   "source": [
    "E_COH2O3=E_tot+189.733376058\n",
    "print(E_COH2O3*627.509,\"kcal/mol\");"
   ]
  },
  {
   "cell_type": "code",
   "execution_count": null,
   "id": "0bbc971f",
   "metadata": {},
   "outputs": [],
   "source": []
  },
  {
   "cell_type": "code",
   "execution_count": 7,
   "id": "c16ac2cc",
   "metadata": {},
   "outputs": [
    {
     "name": "stdout",
     "output_type": "stream",
     "text": [
      " SCF Done:  E(RB3LYP) =  -189.733271116     A.U. after    6 cycles\n",
      "\n"
     ]
    }
   ],
   "source": [
    "contentCOH2O4=open(\"C:\\Calculation\\DFT,opt=tight 6-31G(d,p)\\DFT,opt=tight 6-31G(d,p)CO(1)H2O(1)\\DFT,opt=tight 6-31G(d,p)CO(1)H2O(1)4.out\",\"r\");\n",
    "last_line=None;\n",
    "for line in contentCOH2O4:\n",
    "    if \"SCF Done\" in line:\n",
    "        last_line=line;\n",
    "print(last_line);\n",
    "contentCOH2O4.close();"
   ]
  },
  {
   "cell_type": "markdown",
   "id": "a62450b8",
   "metadata": {},
   "source": [
    "## bonding energy4"
   ]
  },
  {
   "cell_type": "code",
   "execution_count": 31,
   "id": "d715d70f",
   "metadata": {},
   "outputs": [
    {
     "name": "stdout",
     "output_type": "stream",
     "text": [
      "2.5605989809556617 kcal/mol\n"
     ]
    }
   ],
   "source": [
    "E_COH2O4=E_tot+189.733271116\n",
    "print(E_COH2O4*627.509,\"kcal/mol\");"
   ]
  },
  {
   "cell_type": "code",
   "execution_count": null,
   "id": "07cb5e23",
   "metadata": {},
   "outputs": [],
   "source": []
  },
  {
   "cell_type": "code",
   "execution_count": 8,
   "id": "9a2fbcb7",
   "metadata": {},
   "outputs": [
    {
     "name": "stdout",
     "output_type": "stream",
     "text": [
      " SCF Done:  E(UB3LYP) =  -113.809998491     A.U. after    9 cycles\n",
      "\n"
     ]
    }
   ],
   "source": [
    "contentCOH1=open(\"C:\\Calculation\\DFT,opt=tight 6-31G(d,p)\\DFT,opt=tight 6-31G(d,p)CO(1)H(1)\\DFT,opt=tight 6-31G(d,p)CO(1)H(1)1.out\",\"r\");\n",
    "last_line=None;\n",
    "for line in contentCOH1:\n",
    "    if \"SCF Done\" in line:\n",
    "        last_line=line;\n",
    "print(last_line)\n",
    "contentCOH1.close();"
   ]
  },
  {
   "cell_type": "markdown",
   "id": "55f4fad3",
   "metadata": {},
   "source": [
    "# opt energy1"
   ]
  },
  {
   "cell_type": "code",
   "execution_count": 32,
   "id": "3d2a4429",
   "metadata": {},
   "outputs": [
    {
     "name": "stdout",
     "output_type": "stream",
     "text": [
      "-75.91919204769998\n"
     ]
    }
   ],
   "source": [
    "E_COH1=E_tot+113.809998491\n",
    "print(E_COH1)"
   ]
  },
  {
   "cell_type": "code",
   "execution_count": null,
   "id": "e593b186",
   "metadata": {},
   "outputs": [],
   "source": []
  },
  {
   "cell_type": "code",
   "execution_count": 9,
   "id": "d9606e08",
   "metadata": {},
   "outputs": [
    {
     "name": "stdout",
     "output_type": "stream",
     "text": [
      " SCF Done:  E(UB3LYP) =  -113.809838116     A.U. after    6 cycles\n",
      "\n"
     ]
    }
   ],
   "source": [
    "contentCOH2=open(\"C:\\Calculation\\DFT,opt=tight 6-31G(d,p)\\DFT,opt=tight 6-31G(d,p)CO(1)H(1)\\DFT,opt=tight 6-31G(d,p)CO(1)H(1)2.out\",\"r\");\n",
    "last_line=None;\n",
    "for line in contentCOH2:\n",
    "    if \"SCF Done\" in line:\n",
    "        last_line=line;\n",
    "print(last_line)\n",
    "contentCOH2.close();"
   ]
  },
  {
   "cell_type": "markdown",
   "id": "b8e31668",
   "metadata": {},
   "source": [
    "# opt energy2"
   ]
  },
  {
   "cell_type": "code",
   "execution_count": 33,
   "id": "18d3a506",
   "metadata": {},
   "outputs": [
    {
     "name": "stdout",
     "output_type": "stream",
     "text": [
      "-75.91935242269999\n"
     ]
    }
   ],
   "source": [
    "E_COH2=E_tot+113.809838116\n",
    "print(E_COH2)"
   ]
  },
  {
   "cell_type": "code",
   "execution_count": null,
   "id": "878bf721",
   "metadata": {},
   "outputs": [],
   "source": []
  },
  {
   "cell_type": "code",
   "execution_count": 10,
   "id": "7d9a04fd",
   "metadata": {},
   "outputs": [
    {
     "name": "stdout",
     "output_type": "stream",
     "text": [
      " SCF Done:  E(UB3LYP) =  -113.809809188     A.U. after    6 cycles\n",
      "\n"
     ]
    }
   ],
   "source": [
    "contentCOH3=open(\"C:\\Calculation\\DFT,opt=tight 6-31G(d,p)\\DFT,opt=tight 6-31G(d,p)CO(1)H(1)\\DFT,opt=tight 6-31G(d,p)CO(1)H(1)3.out\",\"r\");\n",
    "last_line=None;\n",
    "for line in contentCOH3:\n",
    "    if \"SCF Done\" in line:\n",
    "        last_line=line;\n",
    "print(last_line)\n",
    "contentCOH3.close();"
   ]
  },
  {
   "cell_type": "markdown",
   "id": "8a126fd7",
   "metadata": {},
   "source": [
    "# opt energy3"
   ]
  },
  {
   "cell_type": "code",
   "execution_count": 35,
   "id": "d78817b0",
   "metadata": {},
   "outputs": [
    {
     "name": "stdout",
     "output_type": "stream",
     "text": [
      "-75.91938135069998\n"
     ]
    }
   ],
   "source": [
    "E_COH3=E_tot+113.809809188\n",
    "print(E_COH3)"
   ]
  },
  {
   "cell_type": "code",
   "execution_count": null,
   "id": "89fb6324",
   "metadata": {},
   "outputs": [],
   "source": []
  },
  {
   "cell_type": "code",
   "execution_count": 11,
   "id": "22648858",
   "metadata": {
    "scrolled": true
   },
   "outputs": [
    {
     "name": "stdout",
     "output_type": "stream",
     "text": [
      " SCF Done:  E(UB3LYP) =  -113.788813314     A.U. after   12 cycles\n",
      "\n"
     ]
    }
   ],
   "source": [
    "contentQSTCOH1=open(\"C:\\Calculation\\DFT,opt=tight 6-31G(d,p)\\DFT,opt=tight 6-31G(d,p)QST2CO(1)H(1)\\DFT,opt=tight 6-31G(d,p)QST2CO(1)H(1)1.out\",\"r\");\n",
    "last_line=None;\n",
    "for line in contentQSTCOH1:\n",
    "    if \"SCF Done\" in line:\n",
    "        last_line=line;\n",
    "print(last_line);\n",
    "contentQSTCOH1.close();"
   ]
  },
  {
   "cell_type": "markdown",
   "id": "71005e2e",
   "metadata": {},
   "source": [
    "# QST2 energy1"
   ]
  },
  {
   "cell_type": "code",
   "execution_count": 37,
   "id": "2c4498d6",
   "metadata": {},
   "outputs": [
    {
     "name": "stdout",
     "output_type": "stream",
     "text": [
      "13.29388923409718 kcal/mol\n"
     ]
    }
   ],
   "source": [
    "E_qstCOH1=-113.788813314+113.809998491\n",
    "print(E_qstCOH1*627.509,\"kcal/mol\")"
   ]
  },
  {
   "cell_type": "code",
   "execution_count": null,
   "id": "cfcddd26",
   "metadata": {},
   "outputs": [],
   "source": []
  },
  {
   "cell_type": "code",
   "execution_count": 12,
   "id": "a30f2905",
   "metadata": {},
   "outputs": [
    {
     "name": "stdout",
     "output_type": "stream",
     "text": [
      " SCF Done:  E(UB3LYP) =  -113.772927055     A.U. after   10 cycles\n",
      "\n"
     ]
    }
   ],
   "source": [
    "contentQSTCOH3=open(\"C:\\Calculation\\DFT,opt=tight 6-31G(d,p)\\DFT,opt=tight 6-31G(d,p)QST2CO(1)H(1)\\DFT,opt=tight 6-31G(d,p)QST2CO(1)H(1)3.out\",\"r\");\n",
    "last_line=None;\n",
    "for line in contentQSTCOH3:\n",
    "    if \"SCF Done\" in line:\n",
    "        last_line=line;\n",
    "print(last_line);\n",
    "contentQSTCOH3.close();"
   ]
  },
  {
   "cell_type": "markdown",
   "id": "a4067e22",
   "metadata": {},
   "source": [
    "# QST2 energy3"
   ]
  },
  {
   "cell_type": "code",
   "execution_count": 38,
   "id": "f21e6c69",
   "metadata": {},
   "outputs": [
    {
     "name": "stdout",
     "output_type": "stream",
     "text": [
      "23.143870396700752 kcal/mol\n"
     ]
    }
   ],
   "source": [
    "E_qstCOH3=-113.772927055+113.809809188\n",
    "print(E_qstCOH3*627.509,\"kcal/mol\")"
   ]
  },
  {
   "cell_type": "code",
   "execution_count": null,
   "id": "2559b9df",
   "metadata": {},
   "outputs": [],
   "source": []
  },
  {
   "cell_type": "code",
   "execution_count": null,
   "id": "018ddfcb",
   "metadata": {},
   "outputs": [],
   "source": []
  },
  {
   "cell_type": "code",
   "execution_count": null,
   "id": "db010975",
   "metadata": {},
   "outputs": [],
   "source": []
  },
  {
   "cell_type": "code",
   "execution_count": null,
   "id": "2b81cacd",
   "metadata": {},
   "outputs": [],
   "source": []
  },
  {
   "cell_type": "code",
   "execution_count": null,
   "id": "8918b191",
   "metadata": {},
   "outputs": [],
   "source": []
  },
  {
   "cell_type": "markdown",
   "id": "58a9458f",
   "metadata": {},
   "source": [
    "# QST2 product1"
   ]
  },
  {
   "cell_type": "code",
   "execution_count": 39,
   "id": "e3871e24",
   "metadata": {},
   "outputs": [
    {
     "name": "stdout",
     "output_type": "stream",
     "text": [
      " SCF Done:  E(UB3LYP) =  -113.788813267     A.U. after   17 cycles\n",
      "\n"
     ]
    }
   ],
   "source": [
    "contentQSTCOH1product=open(\"C:\\Calculation\\DFT,opt=tight 6-31G(d,p)\\DFT,opt=tight 6-31G(d,p)QST2CO(1)H(1)\\DFT,opt=tight 6-31G(d,p)QST2CO(1)H(1)1product.out\",\"r\");\n",
    "last_line=None;\n",
    "for line in contentQSTCOH1product:\n",
    "    if \"SCF Done\" in line:\n",
    "        last_line=line;\n",
    "print(last_line)\n",
    "contentQSTCOH1product.close();"
   ]
  },
  {
   "cell_type": "code",
   "execution_count": null,
   "id": "f1630ff6",
   "metadata": {},
   "outputs": [],
   "source": []
  },
  {
   "cell_type": "markdown",
   "id": "85614d6f",
   "metadata": {},
   "source": [
    "# QST2 product1 energy\n",
    "## generated energy=opt energy1-product1 energy"
   ]
  },
  {
   "cell_type": "code",
   "execution_count": 47,
   "id": "27f444e8",
   "metadata": {},
   "outputs": [
    {
     "name": "stdout",
     "output_type": "stream",
     "text": [
      "0.021185224000006997\n"
     ]
    }
   ],
   "source": [
    "E_gen1=113.809998491-113.788813267\n",
    "print(E_gen1)"
   ]
  },
  {
   "cell_type": "code",
   "execution_count": null,
   "id": "8199f29b",
   "metadata": {},
   "outputs": [],
   "source": []
  },
  {
   "cell_type": "markdown",
   "id": "2753f37d",
   "metadata": {},
   "source": [
    "# QST2 product3"
   ]
  },
  {
   "cell_type": "code",
   "execution_count": 40,
   "id": "557be049",
   "metadata": {},
   "outputs": [
    {
     "name": "stdout",
     "output_type": "stream",
     "text": [
      " SCF Done:  E(UB3LYP) =  -113.772927055     A.U. after   15 cycles\n",
      "\n"
     ]
    }
   ],
   "source": [
    "contentQSTCOH3product=open(\"C:\\Calculation\\DFT,opt=tight 6-31G(d,p)\\DFT,opt=tight 6-31G(d,p)QST2CO(1)H(1)\\DFT,opt=tight 6-31G(d,p)QST2CO(1)H(1)3product.out\",\"r\");\n",
    "last_line=None;\n",
    "for line in contentQSTCOH3product:\n",
    "    if \"SCF Done\" in line:\n",
    "        last_line=line;\n",
    "print(last_line)\n",
    "contentQSTCOH3product.close();"
   ]
  },
  {
   "cell_type": "code",
   "execution_count": null,
   "id": "aea4588a",
   "metadata": {},
   "outputs": [],
   "source": []
  },
  {
   "cell_type": "markdown",
   "id": "bc5eaf1b",
   "metadata": {},
   "source": [
    "# QST2 product3 energy\n",
    "## generated energy=opt energy3-product3 energy"
   ]
  },
  {
   "cell_type": "code",
   "execution_count": 46,
   "id": "dc5c090d",
   "metadata": {},
   "outputs": [
    {
     "name": "stdout",
     "output_type": "stream",
     "text": [
      "0.03688213300000598\n"
     ]
    }
   ],
   "source": [
    "E_gen3=113.809809188-113.772927055\n",
    "print(E_gen3)"
   ]
  },
  {
   "cell_type": "code",
   "execution_count": null,
   "id": "6b3e58ec",
   "metadata": {},
   "outputs": [],
   "source": []
  }
 ],
 "metadata": {
  "kernelspec": {
   "display_name": "Python 3 (ipykernel)",
   "language": "python",
   "name": "python3"
  },
  "language_info": {
   "codemirror_mode": {
    "name": "ipython",
    "version": 3
   },
   "file_extension": ".py",
   "mimetype": "text/x-python",
   "name": "python",
   "nbconvert_exporter": "python",
   "pygments_lexer": "ipython3",
   "version": "3.10.9"
  }
 },
 "nbformat": 4,
 "nbformat_minor": 5
}
